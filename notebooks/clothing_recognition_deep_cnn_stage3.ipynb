{
 "cells": [
  {
   "cell_type": "markdown",
   "id": "d4f19997-a88b-422c-95ba-1a8d0a6ebfa8",
   "metadata": {},
   "source": [
    "\n",
    "# Model Tuning: Deep CNN with Dropout and Batch Normalisation – Stage 3\n"
   ]
  },
  {
   "cell_type": "markdown",
   "id": "3b78d260-1fee-4835-8d6e-43274436a8ae",
   "metadata": {},
   "source": [
    "# data_preparation"
   ]
  },
  {
   "cell_type": "code",
   "execution_count": 1,
   "id": "d46f89ce-0304-4640-9a79-ec96498bcc42",
   "metadata": {},
   "outputs": [
    {
     "name": "stderr",
     "output_type": "stream",
     "text": [
      "2025-04-16 20:36:47.271399: E tensorflow/compiler/xla/stream_executor/cuda/cuda_dnn.cc:9342] Unable to register cuDNN factory: Attempting to register factory for plugin cuDNN when one has already been registered\n",
      "2025-04-16 20:36:47.271524: E tensorflow/compiler/xla/stream_executor/cuda/cuda_fft.cc:609] Unable to register cuFFT factory: Attempting to register factory for plugin cuFFT when one has already been registered\n",
      "2025-04-16 20:36:47.271569: E tensorflow/compiler/xla/stream_executor/cuda/cuda_blas.cc:1518] Unable to register cuBLAS factory: Attempting to register factory for plugin cuBLAS when one has already been registered\n",
      "2025-04-16 20:36:48.611815: W tensorflow/compiler/tf2tensorrt/utils/py_utils.cc:38] TF-TRT Warning: Could not find TensorRT\n"
     ]
    },
    {
     "name": "stdout",
     "output_type": "stream",
     "text": [
      "[INFO] X_train shape: (60000, 28, 28, 1)\n",
      "[INFO] X_test shape: (10000, 28, 28, 1)\n",
      "[INFO] y_train shape: (60000, 10)\n",
      "[INFO] y_test shape: (10000, 10)\n"
     ]
    }
   ],
   "source": [
    "import numpy as np\n",
    "import tensorflow as tf\n",
    "from tensorflow.keras.datasets import fashion_mnist\n",
    "from tensorflow.keras.utils import to_categorical\n",
    "from tensorflow.keras.models import Sequential\n",
    "from tensorflow.keras.layers import Conv2D, MaxPooling2D, Flatten\n",
    "from tensorflow.keras.layers import Dense, Dropout, BatchNormalization\n",
    "\n",
    "\n",
    "# Set a global random seed for reproducibility\n",
    "np.random.seed(42)\n",
    "tf.random.set_seed(42)\n",
    "\n",
    "# Load Fashion MNIST dataset directly from Keras\n",
    "# It returns: (X_train, y_train), (X_test, y_test)\n",
    "(X_train, y_train), (X_test, y_test) = fashion_mnist.load_data()\n",
    "\n",
    "# Normalize pixel values to range [0, 1] by dividing by 255\n",
    "X_train = X_train.astype(\"float32\") / 255.0\n",
    "X_test = X_test.astype(\"float32\") / 255.0\n",
    "\n",
    "# Reshape input data to add a channel dimension (since images are grayscale)\n",
    "# Shape becomes (num_samples, 28, 28, 1) for CNN compatibility\n",
    "X_train = np.expand_dims(X_train, axis=-1)\n",
    "X_test = np.expand_dims(X_test, axis=-1)\n",
    "\n",
    "# Convert labels to one-hot encoded format (for softmax output)\n",
    "y_train = to_categorical(y_train, 10)\n",
    "y_test = to_categorical(y_test, 10)\n",
    "\n",
    "# Print dataset shapes for confirmation\n",
    "print(f\"[INFO] X_train shape: {X_train.shape}\")\n",
    "print(f\"[INFO] X_test shape: {X_test.shape}\")\n",
    "print(f\"[INFO] y_train shape: {y_train.shape}\")\n",
    "print(f\"[INFO] y_test shape: {y_test.shape}\")"
   ]
  },
  {
   "cell_type": "markdown",
   "id": "abcbaad3-af57-4a47-9b74-de5996fad836",
   "metadata": {},
   "source": [
    "# Model with Dropout and Batch Normalisation to improve generalisation "
   ]
  },
  {
   "cell_type": "code",
   "execution_count": 2,
   "id": "5c55c2a2-6083-443b-8cdd-3e140c85caa6",
   "metadata": {},
   "outputs": [],
   "source": [
    "def build_deep_cnn_model():\n",
    "    \"\"\"\n",
    "    Builds a deeper convolutional neural network for Fashion MNIST classification,\n",
    "    incorporating Dropout and Batch Normalisation for improved generalisation.\n",
    "    \"\"\"\n",
    "    model = Sequential()\n",
    "\n",
    "    # First convolutional block\n",
    "    model.add(Conv2D(32, (3, 3), activation='relu', padding='same', input_shape=(28, 28, 1)))\n",
    "    model.add(BatchNormalization())       # Normalize activations\n",
    "    model.add(MaxPooling2D(pool_size=(2, 2)))  # Downsample feature maps\n",
    "    model.add(Dropout(0.25))              # Randomly drop 25% of neurons\n",
    "\n",
    "    # Second convolutional block\n",
    "    model.add(Conv2D(64, (3, 3), activation='relu', padding='same'))\n",
    "    model.add(BatchNormalization())\n",
    "    model.add(MaxPooling2D(pool_size=(2, 2)))\n",
    "    model.add(Dropout(0.25))\n",
    "\n",
    "    # Third convolutional block\n",
    "    model.add(Conv2D(128, (3, 3), activation='relu', padding='same'))\n",
    "    model.add(BatchNormalization())\n",
    "    model.add(MaxPooling2D(pool_size=(2, 2)))\n",
    "    model.add(Dropout(0.25))\n",
    "\n",
    "    # Flatten the feature maps into a 1D vector\n",
    "    model.add(Flatten())\n",
    "\n",
    "    # Fully connected dense layer\n",
    "    model.add(Dense(128, activation='relu'))\n",
    "    model.add(Dropout(0.5))  # More aggressive dropout in dense layers\n",
    "\n",
    "    # Output layer for 10 classes with softmax\n",
    "    model.add(Dense(10, activation='softmax'))\n",
    "\n",
    "    # Compile the model with optimizer and loss function\n",
    "    model.compile(\n",
    "        optimizer='adam',\n",
    "        loss='categorical_crossentropy',\n",
    "        metrics=['accuracy']\n",
    "    )\n",
    "\n",
    "    return model"
   ]
  },
  {
   "cell_type": "markdown",
   "id": "979dbd71-760e-4eb8-90f1-84eed12f6eb7",
   "metadata": {},
   "source": [
    "# training the model and fine tuning "
   ]
  },
  {
   "cell_type": "code",
   "execution_count": 3,
   "id": "396a3674-105c-462c-9376-3965ca1f4659",
   "metadata": {},
   "outputs": [
    {
     "name": "stdout",
     "output_type": "stream",
     "text": [
      "Epoch 1/10\n",
      "938/938 - 48s - loss: 0.6384 - accuracy: 0.7708 - val_loss: 0.3800 - val_accuracy: 0.8615 - 48s/epoch - 51ms/step\n",
      "Epoch 2/10\n",
      "938/938 - 44s - loss: 0.4137 - accuracy: 0.8511 - val_loss: 0.3439 - val_accuracy: 0.8747 - 44s/epoch - 47ms/step\n",
      "Epoch 3/10\n",
      "938/938 - 43s - loss: 0.3640 - accuracy: 0.8693 - val_loss: 0.2995 - val_accuracy: 0.8922 - 43s/epoch - 46ms/step\n",
      "Epoch 4/10\n",
      "938/938 - 44s - loss: 0.3319 - accuracy: 0.8798 - val_loss: 0.3304 - val_accuracy: 0.8742 - 44s/epoch - 47ms/step\n",
      "Epoch 5/10\n",
      "938/938 - 40s - loss: 0.3107 - accuracy: 0.8872 - val_loss: 0.2765 - val_accuracy: 0.9011 - 40s/epoch - 42ms/step\n",
      "Epoch 6/10\n",
      "938/938 - 43s - loss: 0.2972 - accuracy: 0.8927 - val_loss: 0.2862 - val_accuracy: 0.8986 - 43s/epoch - 46ms/step\n",
      "Epoch 7/10\n",
      "938/938 - 44s - loss: 0.2890 - accuracy: 0.8954 - val_loss: 0.3131 - val_accuracy: 0.8848 - 44s/epoch - 47ms/step\n",
      "Epoch 8/10\n",
      "938/938 - 44s - loss: 0.2717 - accuracy: 0.9017 - val_loss: 0.3283 - val_accuracy: 0.8853 - 44s/epoch - 47ms/step\n",
      "Epoch 9/10\n",
      "938/938 - 43s - loss: 0.2636 - accuracy: 0.9044 - val_loss: 0.2329 - val_accuracy: 0.9176 - 43s/epoch - 46ms/step\n",
      "Epoch 10/10\n",
      "938/938 - 44s - loss: 0.2577 - accuracy: 0.9065 - val_loss: 0.2756 - val_accuracy: 0.9012 - 44s/epoch - 47ms/step\n"
     ]
    }
   ],
   "source": [
    "# First, build the model using the function we defined above\n",
    "model = build_deep_cnn_model()\n",
    "\n",
    "# Train the model on training data and validate on test set\n",
    "# Using batch size of 64 and running for 10 epochs\n",
    "history = model.fit(\n",
    "    X_train, y_train,\n",
    "    epochs=10,                      # Run for 10 passes through the training set\n",
    "    batch_size=64,                 # Number of samples per gradient update\n",
    "    validation_data=(X_test, y_test),  # Use test set as validation\n",
    "    verbose=2                      # Print progress per epoch (less noisy than verbose=1)\n",
    ")"
   ]
  },
  {
   "cell_type": "markdown",
   "id": "2c45e347-0797-4afe-9e4d-c961be6ed85d",
   "metadata": {},
   "source": [
    "# accuracy and loss visualisation"
   ]
  },
  {
   "cell_type": "code",
   "execution_count": null,
   "id": "5b9a3c05-142a-4f00-934f-b8f370e33d9b",
   "metadata": {},
   "outputs": [],
   "source": [
    "# ---------------------------------------------------------------\n",
    "# Visualise Training Metrics: Accuracy and Loss Over Epochs\n",
    "# ---------------------------------------------------------------\n",
    "\n",
    "import matplotlib.pyplot as plt\n",
    "\n",
    "# Extract training history metrics\n",
    "acc = history.history['accuracy']\n",
    "val_acc = history.history['val_accuracy']\n",
    "loss = history.history['loss']\n",
    "val_loss = history.history['val_loss']\n",
    "epochs = range(1, len(acc) + 1)\n",
    "\n",
    "# Plot training and validation accuracy\n",
    "plt.figure(figsize=(10, 4))\n",
    "plt.subplot(1, 2, 1)\n",
    "plt.plot(epochs, acc, label='Training Accuracy')\n",
    "plt.plot(epochs, val_acc, label='Validation Accuracy')\n",
    "plt.title('Training vs Validation Accuracy')\n",
    "plt.xlabel('Epoch')\n",
    "plt.ylabel('Accuracy')\n",
    "plt.legend()\n",
    "plt.grid(True)\n",
    "\n",
    "# Plot training and validation loss\n",
    "plt.subplot(1, 2, 2)\n",
    "plt.plot(epochs, loss, label='Training Loss')\n",
    "plt.plot(epochs, val_loss, label='Validation Loss')\n",
    "plt.title('Training vs Validation Loss')\n",
    "plt.xlabel('Epoch')\n",
    "plt.ylabel('Loss')\n",
    "plt.legend()\n",
    "plt.grid(True)\n",
    "\n",
    "plt.tight_layout()\n",
    "plt.show()"
   ]
  },
  {
   "cell_type": "markdown",
   "id": "a28bbf62-fc1e-4955-bc2e-7ef4e6edd359",
   "metadata": {},
   "source": [
    "# Evaluation + Save the Model"
   ]
  },
  {
   "cell_type": "code",
   "execution_count": 5,
   "id": "735026cd-dae0-4055-b2c8-c393339b202c",
   "metadata": {},
   "outputs": [
    {
     "name": "stdout",
     "output_type": "stream",
     "text": [
      "[RESULT] Test Accuracy of Tuned CNN Model: 0.9012\n",
      "[RESULT] Test Loss: 0.2756\n",
      "[INFO] Tuned model saved to models/stage3_fashion_cnn_tuned.h5\n",
      "\n",
      "[INFO] Model Architecture Summary:\n",
      "Model: \"sequential\"\n",
      "_________________________________________________________________\n",
      " Layer (type)                Output Shape              Param #   \n",
      "=================================================================\n",
      " conv2d (Conv2D)             (None, 28, 28, 32)        320       \n",
      "                                                                 \n",
      " batch_normalization (Batch  (None, 28, 28, 32)        128       \n",
      " Normalization)                                                  \n",
      "                                                                 \n",
      " max_pooling2d (MaxPooling2  (None, 14, 14, 32)        0         \n",
      " D)                                                              \n",
      "                                                                 \n",
      " dropout (Dropout)           (None, 14, 14, 32)        0         \n",
      "                                                                 \n",
      " conv2d_1 (Conv2D)           (None, 14, 14, 64)        18496     \n",
      "                                                                 \n",
      " batch_normalization_1 (Bat  (None, 14, 14, 64)        256       \n",
      " chNormalization)                                                \n",
      "                                                                 \n",
      " max_pooling2d_1 (MaxPoolin  (None, 7, 7, 64)          0         \n",
      " g2D)                                                            \n",
      "                                                                 \n",
      " dropout_1 (Dropout)         (None, 7, 7, 64)          0         \n",
      "                                                                 \n",
      " conv2d_2 (Conv2D)           (None, 7, 7, 128)         73856     \n",
      "                                                                 \n",
      " batch_normalization_2 (Bat  (None, 7, 7, 128)         512       \n",
      " chNormalization)                                                \n",
      "                                                                 \n",
      " max_pooling2d_2 (MaxPoolin  (None, 3, 3, 128)         0         \n",
      " g2D)                                                            \n",
      "                                                                 \n",
      " dropout_2 (Dropout)         (None, 3, 3, 128)         0         \n",
      "                                                                 \n",
      " flatten (Flatten)           (None, 1152)              0         \n",
      "                                                                 \n",
      " dense (Dense)               (None, 128)               147584    \n",
      "                                                                 \n",
      " dropout_3 (Dropout)         (None, 128)               0         \n",
      "                                                                 \n",
      " dense_1 (Dense)             (None, 10)                1290      \n",
      "                                                                 \n",
      "=================================================================\n",
      "Total params: 242442 (947.04 KB)\n",
      "Trainable params: 241994 (945.29 KB)\n",
      "Non-trainable params: 448 (1.75 KB)\n",
      "_________________________________________________________________\n"
     ]
    }
   ],
   "source": [
    "# ---------------------------------------------------------------\n",
    "# Evaluate Tuned Model on Test Set and Save It\n",
    "# ---------------------------------------------------------------\n",
    "\n",
    "# Evaluate the trained model on the test set (acts as unseen data)\n",
    "test_loss, test_accuracy = model.evaluate(X_test, y_test, verbose=0)\n",
    "\n",
    "# Print evaluation results\n",
    "print(f\"[RESULT] Test Accuracy of Tuned CNN Model: {test_accuracy:.4f}\")\n",
    "print(f\"[RESULT] Test Loss: {test_loss:.4f}\")\n",
    "\n",
    "# Save the model to the correct directory\n",
    "model.save(\"../models/stage3_fashion_cnn_tuned.h5\")\n",
    "print(\"[INFO] Tuned model saved to models/stage3_fashion_cnn_tuned.h5\")\n",
    "\n",
    "# Optional: print model architecture summary\n",
    "print(\"\\n[INFO] Model Architecture Summary:\")\n",
    "model.summary()"
   ]
  },
  {
   "cell_type": "code",
   "execution_count": null,
   "id": "4522906e-b340-4d7d-bc91-ec4832800127",
   "metadata": {},
   "outputs": [],
   "source": []
  }
 ],
 "metadata": {
  "kernelspec": {
   "display_name": "Python 3 (ipykernel)",
   "language": "python",
   "name": "python3"
  },
  "language_info": {
   "codemirror_mode": {
    "name": "ipython",
    "version": 3
   },
   "file_extension": ".py",
   "mimetype": "text/x-python",
   "name": "python",
   "nbconvert_exporter": "python",
   "pygments_lexer": "ipython3",
   "version": "3.10.12"
  }
 },
 "nbformat": 4,
 "nbformat_minor": 5
}

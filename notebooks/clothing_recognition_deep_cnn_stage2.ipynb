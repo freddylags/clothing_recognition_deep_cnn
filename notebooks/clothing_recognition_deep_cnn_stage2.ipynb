{
 "cells": [
  {
   "cell_type": "markdown",
   "id": "2283f537-ad7a-4630-ada6-b383cc59a2a7",
   "metadata": {},
   "source": [
    "# ---------------------------------------------------------------\n",
    "# STAGE 2: CNN with L1 Regularisation to avoid pverfitting  and K-Fold Cross-Validation\n"
   ]
  },
  {
   "cell_type": "code",
   "execution_count": 1,
   "id": "d2d17f11-6b8e-4676-8f5b-5cfbd1c5c95a",
   "metadata": {},
   "outputs": [
    {
     "name": "stderr",
     "output_type": "stream",
     "text": [
      "2025-04-16 19:49:52.838273: E tensorflow/compiler/xla/stream_executor/cuda/cuda_dnn.cc:9342] Unable to register cuDNN factory: Attempting to register factory for plugin cuDNN when one has already been registered\n",
      "2025-04-16 19:49:52.838388: E tensorflow/compiler/xla/stream_executor/cuda/cuda_fft.cc:609] Unable to register cuFFT factory: Attempting to register factory for plugin cuFFT when one has already been registered\n",
      "2025-04-16 19:49:52.838461: E tensorflow/compiler/xla/stream_executor/cuda/cuda_blas.cc:1518] Unable to register cuBLAS factory: Attempting to register factory for plugin cuBLAS when one has already been registered\n",
      "2025-04-16 19:49:54.213549: W tensorflow/compiler/tf2tensorrt/utils/py_utils.cc:38] TF-TRT Warning: Could not find TensorRT\n"
     ]
    }
   ],
   "source": [
    "# Import necessary libraries\n",
    "import numpy as np\n",
    "import tensorflow as tf\n",
    "from sklearn.model_selection import KFold\n",
    "from datasets import load_dataset"
   ]
  },
  {
   "cell_type": "markdown",
   "id": "c40af91f-7f10-47d5-8a7b-2c2e4f80bc48",
   "metadata": {},
   "source": [
    "# loading and preprocessing "
   ]
  },
  {
   "cell_type": "code",
   "execution_count": 2,
   "id": "1a029f4a-fd55-4923-bbdc-e01c65e7773e",
   "metadata": {},
   "outputs": [
    {
     "name": "stdout",
     "output_type": "stream",
     "text": [
      "[INFO] Loading Fashion MNIST training set from Hugging Face...\n",
      "[INFO] Loaded 60000 images, input shape: (28, 28, 1)\n"
     ]
    }
   ],
   "source": [
    "# Fashion MNIST contains 60,000 grayscale images (28x28) for training\n",
    "print(\"[INFO] Loading Fashion MNIST training set from Hugging Face...\")\n",
    "dataset = load_dataset(\"fashion_mnist\")\n",
    "\n",
    "# Convert images and labels into numpy arrays\n",
    "X = np.array(dataset['train']['image'])           # Shape: (60000, 28, 28)\n",
    "y = np.array(dataset['train']['label'])           # Labels: integers 0–9\n",
    "\n",
    "# Normalize pixel values to range [0, 1]\n",
    "X = X / 255.0\n",
    "\n",
    "# Reshape into format expected by CNN: (num_samples, 28, 28, 1)\n",
    "X = X.reshape(-1, 28, 28, 1)\n",
    "\n",
    "# Log basic shape of data\n",
    "print(f\"[INFO] Loaded {X.shape[0]} images, input shape: {X.shape[1:]}\")"
   ]
  },
  {
   "cell_type": "markdown",
   "id": "bcd8df23-6627-41d3-93d9-f6ce05a0c3b6",
   "metadata": {},
   "source": [
    "# k fold for better generalisation "
   ]
  },
  {
   "cell_type": "code",
   "execution_count": 3,
   "id": "c9310fcf-e699-413f-8458-07599200c936",
   "metadata": {},
   "outputs": [
    {
     "name": "stdout",
     "output_type": "stream",
     "text": [
      "[INFO] Initializing 5-fold cross-validation...\n"
     ]
    }
   ],
   "source": [
    "# We'll use 5 folds, shuffle before splitting, and fix the seed for reproducibility\n",
    "k = 5\n",
    "kf = KFold(n_splits=k, shuffle=True, random_state=42)\n",
    "\n",
    "print(f\"[INFO] Initializing {k}-fold cross-validation...\")"
   ]
  },
  {
   "cell_type": "markdown",
   "id": "b5ea7b60-a93a-49aa-ba01-9b7d7f807ea1",
   "metadata": {},
   "source": [
    "# l1 regulrisation to prevent overfitting with new model "
   ]
  },
  {
   "cell_type": "code",
   "execution_count": 4,
   "id": "53d3bd06-b10c-4d68-bc0a-292cf72081d2",
   "metadata": {},
   "outputs": [],
   "source": [
    "# ---------------------------------------------------------------\n",
    "# Define a CNN model function with L1 regularisation\n",
    "# ---------------------------------------------------------------\n",
    "\n",
    "def create_l1_regularised_cnn(l1_lambda=0.001):\n",
    "    \"\"\"\n",
    "    Creates a CNN model with L1 regularisation applied to convolutional layers.\n",
    "    :param l1_lambda: strength of L1 penalty (regularisation coefficient)\n",
    "    :return: compiled Keras model\n",
    "    \"\"\"\n",
    "\n",
    "    # Use keras.regularizers.l1 to apply L1 weight penalty\n",
    "    regularizer = tf.keras.regularizers.l1(l1_lambda)\n",
    "\n",
    "    model = tf.keras.Sequential([\n",
    "        # First convolutional block with L1 regularisation\n",
    "        tf.keras.layers.Conv2D(32, (3, 3), activation='relu',\n",
    "                               kernel_regularizer=regularizer,\n",
    "                               input_shape=(28, 28, 1)),\n",
    "        tf.keras.layers.MaxPooling2D((2, 2)),\n",
    "\n",
    "        # Second convolutional block\n",
    "        tf.keras.layers.Conv2D(64, (3, 3), activation='relu',\n",
    "                               kernel_regularizer=regularizer),\n",
    "        tf.keras.layers.MaxPooling2D((2, 2)),\n",
    "\n",
    "        # Flatten and dense layers\n",
    "        tf.keras.layers.Flatten(),\n",
    "        tf.keras.layers.Dense(64, activation='relu'),\n",
    "        tf.keras.layers.Dense(10, activation='softmax')  # 10 clothing categories\n",
    "    ])\n",
    "\n",
    "    # Compile the model with standard settings\n",
    "    model.compile(\n",
    "        optimizer='adam',\n",
    "        loss='sparse_categorical_crossentropy',\n",
    "        metrics=['accuracy']\n",
    "    )\n",
    "\n",
    "    return model"
   ]
  },
  {
   "cell_type": "markdown",
   "id": "ed9cc623-3ef5-4a40-a8e4-96f6360a6d76",
   "metadata": {},
   "source": [
    "# Training Loop with L1 + Metrics Logging"
   ]
  },
  {
   "cell_type": "code",
   "execution_count": 5,
   "id": "a177d49f-3d96-43e7-ba34-1272a0e2d372",
   "metadata": {},
   "outputs": [
    {
     "name": "stdout",
     "output_type": "stream",
     "text": [
      "\n",
      "[INFO] Starting Fold 1/5\n",
      "Epoch 1/10\n",
      "750/750 [==============================] - 17s 21ms/step - loss: 0.8170 - accuracy: 0.7844 - val_loss: 0.5611 - val_accuracy: 0.8404\n",
      "Epoch 2/10\n",
      "750/750 [==============================] - 18s 24ms/step - loss: 0.5213 - accuracy: 0.8492 - val_loss: 0.4937 - val_accuracy: 0.8522\n",
      "Epoch 3/10\n",
      "750/750 [==============================] - 18s 24ms/step - loss: 0.4580 - accuracy: 0.8627 - val_loss: 0.4400 - val_accuracy: 0.8686\n",
      "Epoch 4/10\n",
      "750/750 [==============================] - 18s 24ms/step - loss: 0.4200 - accuracy: 0.8747 - val_loss: 0.4099 - val_accuracy: 0.8780\n",
      "Epoch 5/10\n",
      "750/750 [==============================] - 17s 23ms/step - loss: 0.3979 - accuracy: 0.8787 - val_loss: 0.4010 - val_accuracy: 0.8773\n",
      "Epoch 6/10\n",
      "750/750 [==============================] - 18s 24ms/step - loss: 0.3809 - accuracy: 0.8826 - val_loss: 0.4008 - val_accuracy: 0.8750\n",
      "Epoch 7/10\n",
      "750/750 [==============================] - 17s 23ms/step - loss: 0.3652 - accuracy: 0.8872 - val_loss: 0.3824 - val_accuracy: 0.8801\n",
      "Epoch 8/10\n",
      "750/750 [==============================] - 18s 24ms/step - loss: 0.3557 - accuracy: 0.8900 - val_loss: 0.3763 - val_accuracy: 0.8839\n",
      "Epoch 9/10\n",
      "750/750 [==============================] - 17s 23ms/step - loss: 0.3467 - accuracy: 0.8925 - val_loss: 0.3646 - val_accuracy: 0.8874\n",
      "Epoch 10/10\n",
      "750/750 [==============================] - 17s 23ms/step - loss: 0.3390 - accuracy: 0.8950 - val_loss: 0.3679 - val_accuracy: 0.8862\n",
      "[RESULT] Fold 1 Accuracy: 0.8862, Loss: 0.3679\n",
      "[INFO] Best model updated and saved (Fold 1)\n",
      "\n",
      "[INFO] Starting Fold 2/5\n"
     ]
    },
    {
     "name": "stderr",
     "output_type": "stream",
     "text": [
      "/opt/jupyterhub/pyvenv/lib/python3.10/site-packages/keras/src/engine/training.py:3079: UserWarning: You are saving your model as an HDF5 file via `model.save()`. This file format is considered legacy. We recommend using instead the native Keras format, e.g. `model.save('my_model.keras')`.\n",
      "  saving_api.save_model(\n"
     ]
    },
    {
     "name": "stdout",
     "output_type": "stream",
     "text": [
      "Epoch 1/10\n",
      "750/750 [==============================] - 19s 24ms/step - loss: 0.7848 - accuracy: 0.7835 - val_loss: 0.5531 - val_accuracy: 0.8340\n",
      "Epoch 2/10\n",
      "750/750 [==============================] - 18s 24ms/step - loss: 0.5159 - accuracy: 0.8447 - val_loss: 0.4815 - val_accuracy: 0.8509\n",
      "Epoch 3/10\n",
      "750/750 [==============================] - 18s 24ms/step - loss: 0.4573 - accuracy: 0.8615 - val_loss: 0.4427 - val_accuracy: 0.8648\n",
      "Epoch 4/10\n",
      "750/750 [==============================] - 17s 23ms/step - loss: 0.4233 - accuracy: 0.8686 - val_loss: 0.3931 - val_accuracy: 0.8814\n",
      "Epoch 5/10\n",
      "750/750 [==============================] - 17s 23ms/step - loss: 0.3990 - accuracy: 0.8759 - val_loss: 0.3897 - val_accuracy: 0.8829\n",
      "Epoch 6/10\n",
      "750/750 [==============================] - 18s 24ms/step - loss: 0.3816 - accuracy: 0.8812 - val_loss: 0.3678 - val_accuracy: 0.8860\n",
      "Epoch 7/10\n",
      "750/750 [==============================] - 17s 23ms/step - loss: 0.3665 - accuracy: 0.8846 - val_loss: 0.3531 - val_accuracy: 0.8911\n",
      "Epoch 8/10\n",
      "750/750 [==============================] - 15s 21ms/step - loss: 0.3557 - accuracy: 0.8880 - val_loss: 0.3500 - val_accuracy: 0.8916\n",
      "Epoch 9/10\n",
      "750/750 [==============================] - 15s 20ms/step - loss: 0.3426 - accuracy: 0.8902 - val_loss: 0.3436 - val_accuracy: 0.8943\n",
      "Epoch 10/10\n",
      "750/750 [==============================] - 17s 23ms/step - loss: 0.3332 - accuracy: 0.8938 - val_loss: 0.3445 - val_accuracy: 0.8933\n",
      "[RESULT] Fold 2 Accuracy: 0.8933, Loss: 0.3445\n",
      "[INFO] Best model updated and saved (Fold 2)\n",
      "\n",
      "[INFO] Starting Fold 3/5\n",
      "Epoch 1/10\n",
      "750/750 [==============================] - 17s 21ms/step - loss: 0.8234 - accuracy: 0.7802 - val_loss: 0.5790 - val_accuracy: 0.8322\n",
      "Epoch 2/10\n",
      "750/750 [==============================] - 16s 21ms/step - loss: 0.5334 - accuracy: 0.8431 - val_loss: 0.4948 - val_accuracy: 0.8540\n",
      "Epoch 3/10\n",
      "750/750 [==============================] - 16s 22ms/step - loss: 0.4693 - accuracy: 0.8588 - val_loss: 0.4562 - val_accuracy: 0.8612\n",
      "Epoch 4/10\n",
      "750/750 [==============================] - 16s 21ms/step - loss: 0.4323 - accuracy: 0.8677 - val_loss: 0.4268 - val_accuracy: 0.8643\n",
      "Epoch 5/10\n",
      "750/750 [==============================] - 17s 22ms/step - loss: 0.4101 - accuracy: 0.8738 - val_loss: 0.4232 - val_accuracy: 0.8664\n",
      "Epoch 6/10\n",
      "750/750 [==============================] - 18s 24ms/step - loss: 0.3920 - accuracy: 0.8789 - val_loss: 0.4073 - val_accuracy: 0.8726\n",
      "Epoch 7/10\n",
      "750/750 [==============================] - 17s 23ms/step - loss: 0.3776 - accuracy: 0.8821 - val_loss: 0.4035 - val_accuracy: 0.8719\n",
      "Epoch 8/10\n",
      "750/750 [==============================] - 17s 23ms/step - loss: 0.3661 - accuracy: 0.8849 - val_loss: 0.3812 - val_accuracy: 0.8792\n",
      "Epoch 9/10\n",
      "750/750 [==============================] - 18s 24ms/step - loss: 0.3567 - accuracy: 0.8886 - val_loss: 0.3791 - val_accuracy: 0.8789\n",
      "Epoch 10/10\n",
      "750/750 [==============================] - 17s 23ms/step - loss: 0.3468 - accuracy: 0.8920 - val_loss: 0.3578 - val_accuracy: 0.8864\n",
      "[RESULT] Fold 3 Accuracy: 0.8864, Loss: 0.3578\n",
      "\n",
      "[INFO] Starting Fold 4/5\n",
      "Epoch 1/10\n",
      "750/750 [==============================] - 19s 24ms/step - loss: 0.8259 - accuracy: 0.7805 - val_loss: 0.5707 - val_accuracy: 0.8382\n",
      "Epoch 2/10\n",
      "750/750 [==============================] - 17s 23ms/step - loss: 0.5349 - accuracy: 0.8427 - val_loss: 0.5006 - val_accuracy: 0.8547\n",
      "Epoch 3/10\n",
      "750/750 [==============================] - 18s 24ms/step - loss: 0.4771 - accuracy: 0.8582 - val_loss: 0.4575 - val_accuracy: 0.8637\n",
      "Epoch 4/10\n",
      "750/750 [==============================] - 16s 22ms/step - loss: 0.4430 - accuracy: 0.8651 - val_loss: 0.4360 - val_accuracy: 0.8664\n",
      "Epoch 5/10\n",
      "750/750 [==============================] - 17s 23ms/step - loss: 0.4228 - accuracy: 0.8725 - val_loss: 0.4258 - val_accuracy: 0.8708\n",
      "Epoch 6/10\n",
      "750/750 [==============================] - 14s 19ms/step - loss: 0.4030 - accuracy: 0.8762 - val_loss: 0.4109 - val_accuracy: 0.8750\n",
      "Epoch 7/10\n",
      "750/750 [==============================] - 17s 22ms/step - loss: 0.3903 - accuracy: 0.8814 - val_loss: 0.4048 - val_accuracy: 0.8765\n",
      "Epoch 8/10\n",
      "750/750 [==============================] - 17s 23ms/step - loss: 0.3753 - accuracy: 0.8854 - val_loss: 0.3835 - val_accuracy: 0.8860\n",
      "Epoch 9/10\n",
      "750/750 [==============================] - 17s 23ms/step - loss: 0.3648 - accuracy: 0.8900 - val_loss: 0.3906 - val_accuracy: 0.8842\n",
      "Epoch 10/10\n",
      "750/750 [==============================] - 17s 23ms/step - loss: 0.3545 - accuracy: 0.8925 - val_loss: 0.3785 - val_accuracy: 0.8873\n",
      "[RESULT] Fold 4 Accuracy: 0.8873, Loss: 0.3785\n",
      "\n",
      "[INFO] Starting Fold 5/5\n",
      "Epoch 1/10\n",
      "750/750 [==============================] - 19s 24ms/step - loss: 0.8219 - accuracy: 0.7806 - val_loss: 0.6014 - val_accuracy: 0.8241\n",
      "Epoch 2/10\n",
      "750/750 [==============================] - 17s 23ms/step - loss: 0.5255 - accuracy: 0.8478 - val_loss: 0.4970 - val_accuracy: 0.8547\n",
      "Epoch 3/10\n",
      "750/750 [==============================] - 17s 23ms/step - loss: 0.4585 - accuracy: 0.8650 - val_loss: 0.4463 - val_accuracy: 0.8701\n",
      "Epoch 4/10\n",
      "750/750 [==============================] - 18s 24ms/step - loss: 0.4238 - accuracy: 0.8740 - val_loss: 0.4281 - val_accuracy: 0.8718\n",
      "Epoch 5/10\n",
      "750/750 [==============================] - 17s 23ms/step - loss: 0.4008 - accuracy: 0.8804 - val_loss: 0.4037 - val_accuracy: 0.8796\n",
      "Epoch 6/10\n",
      "750/750 [==============================] - 17s 23ms/step - loss: 0.3868 - accuracy: 0.8838 - val_loss: 0.3942 - val_accuracy: 0.8813\n",
      "Epoch 7/10\n",
      "750/750 [==============================] - 17s 23ms/step - loss: 0.3720 - accuracy: 0.8878 - val_loss: 0.3988 - val_accuracy: 0.8783\n",
      "Epoch 8/10\n",
      "750/750 [==============================] - 17s 23ms/step - loss: 0.3598 - accuracy: 0.8918 - val_loss: 0.3744 - val_accuracy: 0.8878\n",
      "Epoch 9/10\n",
      "750/750 [==============================] - 17s 23ms/step - loss: 0.3521 - accuracy: 0.8931 - val_loss: 0.3758 - val_accuracy: 0.8857\n",
      "Epoch 10/10\n",
      "750/750 [==============================] - 17s 23ms/step - loss: 0.3412 - accuracy: 0.8964 - val_loss: 0.3760 - val_accuracy: 0.8842\n",
      "[RESULT] Fold 5 Accuracy: 0.8842, Loss: 0.3760\n",
      "\n",
      "[SUMMARY] Cross-Validation Complete\n",
      "Average Accuracy: 0.8875\n",
      "Accuracy Std Dev: 0.0031\n",
      "Average Loss: 0.3650\n"
     ]
    }
   ],
   "source": [
    "# ---------------------------------------------------------------\n",
    "# Run K-Fold Training with L1 Regularisation and Track Metrics\n",
    "# ---------------------------------------------------------------\n",
    "\n",
    "# These lists will collect accuracy and loss values from each fold\n",
    "fold_accuracies = []\n",
    "fold_losses = []\n",
    "\n",
    "# Keep track of the best performing model overall\n",
    "best_accuracy = 0.0\n",
    "best_model = None\n",
    "X_val_best = None  # To store best model's validation set\n",
    "y_val_best = None\n",
    "best_fold_index = None  # To track which fold the best model came from\n",
    "\n",
    "# Loop through each fold defined by the KFold splitter\n",
    "for fold, (train_idx, val_idx) in enumerate(kf.split(X)):\n",
    "    print(f\"\\n[INFO] Starting Fold {fold + 1}/{k}\")\n",
    "\n",
    "    # Extract training and validation data for this fold\n",
    "    X_train, X_val = X[train_idx], X[val_idx]\n",
    "    y_train, y_val = y[train_idx], y[val_idx]\n",
    "\n",
    "    # Create a new CNN model instance with L1 regularisation for this fold\n",
    "    model = create_l1_regularised_cnn(l1_lambda=0.001)\n",
    "\n",
    "    # Train the model using training data\n",
    "    history = model.fit(\n",
    "        X_train, y_train,\n",
    "        validation_data=(X_val, y_val),  # Evaluate on validation during training\n",
    "        epochs=10,\n",
    "        batch_size=64,                   # Explicit batch size for control\n",
    "        verbose=1                        # Show output per epoch\n",
    "    )\n",
    "\n",
    "    # Evaluate model on the validation set (get final accuracy and loss)\n",
    "    val_loss, val_accuracy = model.evaluate(X_val, y_val, verbose=0)\n",
    "\n",
    "    # Log metrics for this fold\n",
    "    fold_accuracies.append(val_accuracy)\n",
    "    fold_losses.append(val_loss)\n",
    "    print(f\"[RESULT] Fold {fold + 1} Accuracy: {val_accuracy:.4f}, Loss: {val_loss:.4f}\")\n",
    "\n",
    "    # If this model outperforms the previous best, update and save\n",
    "    if val_accuracy > best_accuracy:\n",
    "        best_accuracy = val_accuracy\n",
    "        best_model = model\n",
    "\n",
    "        # Store the validation data of the best-performing fold\n",
    "        X_val_best = X_val\n",
    "        y_val_best = y_val\n",
    "        best_fold_index = fold + 1\n",
    "\n",
    "        # Save the best model to disk\n",
    "        model.save(\"../models/stage2_fashion_cnn_best_l1.h5\")\n",
    "        print(f\"[INFO] Best model updated and saved (Fold {fold + 1})\")\n",
    "\n",
    "# ---------------------------------------------------------------\n",
    "# Final summary after completing all folds\n",
    "# ---------------------------------------------------------------\n",
    "print(\"\\n[SUMMARY] Cross-Validation Complete\")\n",
    "print(f\"Average Accuracy: {np.mean(fold_accuracies):.4f}\")\n",
    "print(f\"Accuracy Std Dev: {np.std(fold_accuracies):.4f}\")\n",
    "print(f\"Average Loss: {np.mean(fold_losses):.4f}\")"
   ]
  },
  {
   "cell_type": "markdown",
   "id": "c1472ea8-d6c6-4bd5-92c3-e68a465676d9",
   "metadata": {},
   "source": [
    "# cross validation best model confusion matrix"
   ]
  },
  {
   "cell_type": "code",
   "execution_count": 7,
   "id": "c3c5c128-b96d-4562-80c4-415da9dda25b",
   "metadata": {},
   "outputs": [
    {
     "name": "stdout",
     "output_type": "stream",
     "text": [
      "\n",
      "[INFO] Evaluating best model (from Fold 2)...\n",
      "375/375 [==============================] - 3s 7ms/step\n"
     ]
    },
    {
     "data": {
      "text/plain": [
       "<Figure size 800x600 with 0 Axes>"
      ]
     },
     "metadata": {},
     "output_type": "display_data"
    },
    {
     "data": {
      "image/png": "[encoded data removed]",
      "text/plain": [
       "<Figure size 640x480 with 2 Axes>"
      ]
     },
     "metadata": {},
     "output_type": "display_data"
    },
    {
     "name": "stdout",
     "output_type": "stream",
     "text": [
      "[RESULT] Accuracy of best saved model on validation set: 0.8933\n"
     ]
    }
   ],
   "source": [
    "# ---------------------------------------------------------------\n",
    "# Evaluate Best Saved Model on Its Own Validation Fold\n",
    "# ---------------------------------------------------------------\n",
    "\n",
    "from sklearn.metrics import confusion_matrix, ConfusionMatrixDisplay, accuracy_score\n",
    "import matplotlib.pyplot as plt\n",
    "\n",
    "# Load the best model from disk\n",
    "best_model_loaded = tf.keras.models.load_model(\"../models/stage2_fashion_cnn_best_l1.h5\")\n",
    "\n",
    "# Print which fold produced the best model\n",
    "print(f\"\\n[INFO] Evaluating best model (from Fold {best_fold_index})...\")\n",
    "\n",
    "# Predict class probabilities on the validation set used by that fold\n",
    "y_pred_probs = best_model_loaded.predict(X_val_best)\n",
    "\n",
    "# Convert predicted probabilities to actual class predictions (0–9)\n",
    "y_pred_classes = np.argmax(y_pred_probs, axis=1)\n",
    "\n",
    "# Calculate confusion matrix using correct validation labels\n",
    "conf_matrix = confusion_matrix(y_val_best, y_pred_classes)\n",
    "\n",
    "# Calculate the final accuracy using the best fold’s validation set\n",
    "best_model_accuracy = accuracy_score(y_val_best, y_pred_classes)\n",
    "\n",
    "\n",
    "# Plot the confusion matrix for visual interpretation\n",
    "plt.figure(figsize=(8, 6))\n",
    "disp = ConfusionMatrixDisplay(confusion_matrix=conf_matrix)\n",
    "disp.plot(cmap=\"Reds\", values_format=\"d\")\n",
    "plt.title(\"Confusion Matrix – Best L1-Regularised Model (Correct Fold)\")\n",
    "plt.grid(False)\n",
    "plt.show()\n",
    "\n",
    "# Print accuracy\n",
    "print(f\"[RESULT] Accuracy of best saved model on validation set: {best_model_accuracy:.4f}\")\n"
   ]
  },
  {
   "cell_type": "code",
   "execution_count": null,
   "id": "8903cf34-dcbf-4fa2-b4a9-d3c1c65d5396",
   "metadata": {},
   "outputs": [],
   "source": []
  }
 ],
 "metadata": {
  "kernelspec": {
   "display_name": "Python 3 (ipykernel)",
   "language": "python",
   "name": "python3"
  },
  "language_info": {
   "codemirror_mode": {
    "name": "ipython",
    "version": 3
   },
   "file_extension": ".py",
   "mimetype": "text/x-python",
   "name": "python",
   "nbconvert_exporter": "python",
   "pygments_lexer": "ipython3",
   "version": "3.10.12"
  }
 },
 "nbformat": 4,
 "nbformat_minor": 5
}

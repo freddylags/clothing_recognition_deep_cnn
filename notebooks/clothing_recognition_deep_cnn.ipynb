{
 "cells": [
  {
   "cell_type": "markdown",
   "metadata": {},
   "source": [
    "# libraries imports"
   ]
  },
  {
   "cell_type": "code",
   "execution_count": 1,
   "metadata": {},
   "outputs": [
    {
     "name": "stderr",
     "output_type": "stream",
     "text": [
      "2025-04-16 16:07:18.272778: E tensorflow/compiler/xla/stream_executor/cuda/cuda_dnn.cc:9342] Unable to register cuDNN factory: Attempting to register factory for plugin cuDNN when one has already been registered\n",
      "2025-04-16 16:07:18.272871: E tensorflow/compiler/xla/stream_executor/cuda/cuda_fft.cc:609] Unable to register cuFFT factory: Attempting to register factory for plugin cuFFT when one has already been registered\n",
      "2025-04-16 16:07:18.272925: E tensorflow/compiler/xla/stream_executor/cuda/cuda_blas.cc:1518] Unable to register cuBLAS factory: Attempting to register factory for plugin cuBLAS when one has already been registered\n",
      "2025-04-16 16:07:19.655488: W tensorflow/compiler/tf2tensorrt/utils/py_utils.cc:38] TF-TRT Warning: Could not find TensorRT\n"
     ]
    }
   ],
   "source": [
    "from datasets import load_dataset\n",
    "import numpy as np\n",
    "import tensorflow as tf\n",
    "from sklearn.model_selection import train_test_split\n",
    "import pandas"
   ]
  },
  {
   "cell_type": "markdown",
   "metadata": {},
   "source": [
    "# preposcessing the images "
   ]
  },
  {
   "cell_type": "code",
   "execution_count": 2,
   "metadata": {},
   "outputs": [],
   "source": [
    "# Load Fashion MNIST from Hugging Face\n",
    "dataset = load_dataset(\"fashion_mnist\")\n",
    "\n",
    "# Extract images and labels\n",
    "X_train = np.array(dataset['train']['image'])\n",
    "y_train = np.array(dataset['train']['label'])\n",
    "X_test = np.array(dataset['test']['image'])\n",
    "y_test = np.array(dataset['test']['label'])\n",
    "\n",
    "# Normalize pixel values\n",
    "X_train = X_train / 255.0\n",
    "X_test = X_test / 255.0\n",
    "\n",
    "# Reshape to (28, 28, 1) for CNN\n",
    "X_train = X_train.reshape(-1, 28, 28, 1)\n",
    "X_test = X_test.reshape(-1, 28, 28, 1)\n",
    "\n",
    "# Split validation from train\n",
    "X_train, X_val, y_train, y_val = train_test_split(\n",
    "    X_train, y_train, test_size=0.1, random_state=42)"
   ]
  },
  {
   "cell_type": "markdown",
   "metadata": {},
   "source": [
    "# model architecture and compilinh "
   ]
  },
  {
   "cell_type": "code",
   "execution_count": 3,
   "metadata": {},
   "outputs": [
    {
     "name": "stdout",
     "output_type": "stream",
     "text": [
      "Epoch 1/10\n",
      "1688/1688 [==============================] - 37s 21ms/step - loss: 0.4791 - accuracy: 0.8278 - val_loss: 0.3470 - val_accuracy: 0.8735\n",
      "Epoch 2/10\n",
      "1688/1688 [==============================] - 35s 21ms/step - loss: 0.3189 - accuracy: 0.8846 - val_loss: 0.2845 - val_accuracy: 0.8990\n",
      "Epoch 3/10\n",
      "1688/1688 [==============================] - 34s 20ms/step - loss: 0.2731 - accuracy: 0.9001 - val_loss: 0.2679 - val_accuracy: 0.9008\n",
      "Epoch 4/10\n",
      "1688/1688 [==============================] - 34s 20ms/step - loss: 0.2420 - accuracy: 0.9116 - val_loss: 0.2465 - val_accuracy: 0.9082\n",
      "Epoch 5/10\n",
      "1688/1688 [==============================] - 34s 20ms/step - loss: 0.2164 - accuracy: 0.9199 - val_loss: 0.2492 - val_accuracy: 0.9058\n",
      "Epoch 6/10\n",
      "1688/1688 [==============================] - 34s 20ms/step - loss: 0.1935 - accuracy: 0.9278 - val_loss: 0.2492 - val_accuracy: 0.9093\n",
      "Epoch 7/10\n",
      "1688/1688 [==============================] - 34s 20ms/step - loss: 0.1742 - accuracy: 0.9356 - val_loss: 0.2311 - val_accuracy: 0.9162\n",
      "Epoch 8/10\n",
      "1688/1688 [==============================] - 34s 20ms/step - loss: 0.1579 - accuracy: 0.9411 - val_loss: 0.2492 - val_accuracy: 0.9137\n",
      "Epoch 9/10\n",
      "1688/1688 [==============================] - 34s 20ms/step - loss: 0.1446 - accuracy: 0.9456 - val_loss: 0.2459 - val_accuracy: 0.9092\n",
      "Epoch 10/10\n",
      "1688/1688 [==============================] - 34s 20ms/step - loss: 0.1290 - accuracy: 0.9519 - val_loss: 0.2868 - val_accuracy: 0.9007\n"
     ]
    }
   ],
   "source": [
    "# Define a simple CNN model\n",
    "model = tf.keras.Sequential([\n",
    "    tf.keras.layers.Conv2D(32, (3, 3), activation='relu', input_shape=(28, 28, 1)),\n",
    "    tf.keras.layers.MaxPooling2D(pool_size=(2, 2)),\n",
    "    \n",
    "    tf.keras.layers.Conv2D(64, (3, 3), activation='relu'),\n",
    "    tf.keras.layers.MaxPooling2D(pool_size=(2, 2)),\n",
    "    \n",
    "    tf.keras.layers.Flatten(),\n",
    "    tf.keras.layers.Dense(64, activation='relu'),\n",
    "    tf.keras.layers.Dense(10, activation='softmax')  # 10 clothing categories\n",
    "])\n",
    "\n",
    "# Compile the model\n",
    "model.compile(\n",
    "    optimizer='adam',\n",
    "    loss='sparse_categorical_crossentropy',\n",
    "    metrics=['accuracy']\n",
    ")\n",
    "\n",
    "# Train the model\n",
    "history = model.fit(\n",
    "    X_train, y_train,\n",
    "    epochs=10,\n",
    "    validation_data=(X_val, y_val),\n",
    "    verbose=1\n",
    ")"
   ]
  },
  {
   "cell_type": "markdown",
   "metadata": {},
   "source": [
    "# model evaluation "
   ]
  },
  {
   "cell_type": "code",
   "execution_count": 4,
   "metadata": {},
   "outputs": [
    {
     "name": "stdout",
     "output_type": "stream",
     "text": [
      "313/313 - 2s - loss: 0.2986 - accuracy: 0.9038 - 2s/epoch - 7ms/step\n",
      "\n",
      "Test Accuracy: 0.9038\n",
      "Model saved to models/stage1_fashion_cnn.h5\n"
     ]
    },
    {
     "name": "stderr",
     "output_type": "stream",
     "text": [
      "/opt/jupyterhub/pyvenv/lib/python3.10/site-packages/keras/src/engine/training.py:3079: UserWarning: You are saving your model as an HDF5 file via `model.save()`. This file format is considered legacy. We recommend using instead the native Keras format, e.g. `model.save('my_model.keras')`.\n",
      "  saving_api.save_model(\n"
     ]
    }
   ],
   "source": [
    "# Evaluate the trained model on the test set\n",
    "# This gives a true performance estimate on unseen data\n",
    "test_loss, test_accuracy = model.evaluate(X_test, y_test, verbose=2)\n",
    "\n",
    "# Print the final test accuracy in a readable format\n",
    "print(f\"\\nTest Accuracy: {test_accuracy:.4f}\")\n",
    "\n",
    "# Save the trained model to a file inside the 'models' folder\n",
    "# This allows us to reuse it later without retraining\n",
    "model.save(\"models/stage1_fashion_cnn.h5\")\n",
    "\n",
    "# Confirm that the model has been saved successfully\n",
    "print(\"Model saved to models/stage1_fashion_cnn.h5\")"
   ]
  }
 ],
 "metadata": {
  "kernelspec": {
   "display_name": "Python 3 (ipykernel)",
   "language": "python",
   "name": "python3"
  },
  "language_info": {
   "codemirror_mode": {
    "name": "ipython",
    "version": 3
   },
   "file_extension": ".py",
   "mimetype": "text/x-python",
   "name": "python",
   "nbconvert_exporter": "python",
   "pygments_lexer": "ipython3",
   "version": "3.10.12"
  }
 },
 "nbformat": 4,
 "nbformat_minor": 4
}
